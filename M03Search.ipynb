{
 "cells": [
  {
   "cell_type": "code",
   "execution_count": 1,
   "id": "f741e432",
   "metadata": {},
   "outputs": [],
   "source": [
    "class Solution:\n",
    "    def binarysearch(self, arr, n, k):\n",
    "        lo = 0\n",
    "        high = len(arr) -1 \n",
    "        index = high//2\n",
    "        \n",
    "        if (arr[index] == k):\n",
    "            return index\n",
    "        else:\n",
    "            while (high - lo > 1): \n",
    "                index = (high+lo)//2\n",
    "                test = arr[index]\n",
    "                if test < k:\n",
    "                    lo = index + 1\n",
    "                else:\n",
    "                    high = index\n",
    "            if arr[lo] == k:\n",
    "                return lo\n",
    "            elif arr[high] == k:\n",
    "                return high\n",
    "            elif arr[index] == k:\n",
    "                return index\n",
    "            else:\n",
    "                return -1\n"
   ]
  },
  {
   "cell_type": "code",
   "execution_count": 2,
   "id": "6dec49fc",
   "metadata": {},
   "outputs": [
    {
     "name": "stdout",
     "output_type": "stream",
     "text": [
      "22\n"
     ]
    }
   ],
   "source": [
    "sol = Solution()\n",
    "test = list(range(1,50))\n",
    "find =23\n",
    "\n",
    "print(sol.binarysearch(test, len(test), find))"
   ]
  },
  {
   "cell_type": "code",
   "execution_count": null,
   "id": "b8803182",
   "metadata": {},
   "outputs": [],
   "source": []
  }
 ],
 "metadata": {
  "kernelspec": {
   "display_name": "Python 3 (ipykernel)",
   "language": "python",
   "name": "python3"
  },
  "language_info": {
   "codemirror_mode": {
    "name": "ipython",
    "version": 3
   },
   "file_extension": ".py",
   "mimetype": "text/x-python",
   "name": "python",
   "nbconvert_exporter": "python",
   "pygments_lexer": "ipython3",
   "version": "3.9.13"
  }
 },
 "nbformat": 4,
 "nbformat_minor": 5
}
